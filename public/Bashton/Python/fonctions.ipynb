{
 "cells": [
  {
   "cell_type": "markdown",
   "metadata": {},
   "source": [
    "# Les Fonctions"
   ]
  },
  {
   "cell_type": "markdown",
   "metadata": {},
   "source": [
    "1) **Fonction et arguments**"
   ]
  },
  {
   "cell_type": "markdown",
   "metadata": {},
   "source": [
    "**Notion de fonction :** Une fonction est un ensemble d'instruction que l'on peut appeler en une ligne. En clair, c'est un accès rapide à un ensemble d'instructions.\n",
    "\n",
    "\n",
    "Pour définir une fonction, on utilise le mot-clé `def` suivi du nom de la fonction puis de parenthèses et enfin de `:`. La synthaxe exacte est la suivante :\n",
    "\n",
    "\n",
    "```\n",
    "def ma_fonction () :\n",
    "|    ...\n",
    "|    Bloc d'instruction\n",
    "|    ...\n",
    "```\n",
    "\n",
    "<br/>\n"
   ]
  },
  {
   "cell_type": "code",
   "execution_count": 4,
   "metadata": {
    "trusted": true
   },
   "outputs": [
    {
     "name": "stdout",
     "output_type": "stream",
     "text": [
      "0\n",
      "1\n",
      "2\n",
      "3\n",
      "4\n",
      "5\n",
      "\n",
      " \n",
      " --- On a executé la fonction une fois, ré-exécutons-la. ---\n",
      " \n",
      "\n",
      "0\n",
      "1\n",
      "2\n",
      "3\n",
      "4\n",
      "5\n"
     ]
    }
   ],
   "source": [
    "# Exemple : Fonction\n",
    "\n",
    "def compte_jusqu_a_5 ():\n",
    "    for i in range(6):\n",
    "        print(i)\n",
    "\n",
    "\n",
    "compte_jusqu_a_5()\n",
    "print(\"\\n \\n --- On a executé la fonction une fois, ré-exécutons-la. ---\\n \\n\")\n",
    "compte_jusqu_a_5()"
   ]
  },
  {
   "cell_type": "markdown",
   "metadata": {},
   "source": [
    "<br/>\n",
    "\n",
    "**Mot-clé return :** Parfois, on veut simplement effectuer un calcul pour obtenir une valeur. Pour que la fonction donne une valeur comme résultat, il faut qu'au sein de la fonction, on écrive `return` suivi du résultat. On peut ensuite stocker la valeur au moment de l'appel à la fonction ainsi : `resultat = ma_fonction()`.\n",
    "\n",
    "\n",
    "<br/>"
   ]
  },
  {
   "cell_type": "code",
   "execution_count": 6,
   "metadata": {
    "trusted": true
   },
   "outputs": [
    {
     "name": "stdout",
     "output_type": "stream",
     "text": [
      "On a stocké le résultat qui est :  31536000\n"
     ]
    }
   ],
   "source": [
    "# Exemple : Return\n",
    "\n",
    "def nombre_de_secondes_par_an():\n",
    "    secondes_par_minute = 60\n",
    "    minutes_par_heure = 60\n",
    "    heures_par_jour = 24\n",
    "    jours_par_an = 365\n",
    "    return secondes_par_minute * minutes_par_heure * heures_par_jour * jours_par_an\n",
    "\n",
    "\n",
    "resultat = nombre_de_secondes_par_an()\n",
    "print(\"On a stocké le résultat qui est : \", resultat)"
   ]
  },
  {
   "cell_type": "markdown",
   "metadata": {},
   "source": [
    "<br/>\n",
    "\n",
    "Les fonctions sont très utiles. Elles permettent de séparer les scripts complexes en plusieurs morceaux plus simples. Cela peut paraître annodin, mais c'est un principe fondamental en programmation sans lequel même un projet simple est voué à l'échec.\n",
    "\n",
    "Nous allons voir comment en tirer avantage et en connaître les limites.\n",
    "\n",
    "<br/>"
   ]
  },
  {
   "cell_type": "markdown",
   "metadata": {},
   "source": [
    "<br/>\n",
    "\n",
    "**Arguments d'une fonction :** On peut passer des **arguments** à la fonction. Un argument est une valeur donnée à la fonction et que cette dernière peut utiliser pour réaliser ses instructions.\n",
    "\n",
    "<br/>"
   ]
  },
  {
   "cell_type": "code",
   "execution_count": 5,
   "metadata": {
    "trusted": true
   },
   "outputs": [
    {
     "name": "stdout",
     "output_type": "stream",
     "text": [
      "0\n"
     ]
    }
   ],
   "source": [
    "# Exemple : Fonction\n",
    "\n",
    "resultat_salaire_annuel = 0\n",
    "\n",
    "def calcul_salaire_annuel(salaire_mensuel):\n",
    "    resultat_salaire_annuel = salaire_mensuel*12\n",
    "\n",
    "\n",
    "calcul_salaire_annuel(1500)\n",
    "print(resultat_salaire_annuel)"
   ]
  },
  {
   "cell_type": "markdown",
   "metadata": {},
   "source": [
    "<br/>\n",
    "\n",
    "On peut utiliser plusieurs arguments par exemple pour calculer le terme $U_n = n.r + U_0$ (suite arithmétique) quand on connaît $n , \\; r$ et $U_0$ :\n",
    "\n",
    "<br/>"
   ]
  },
  {
   "cell_type": "code",
   "execution_count": 9,
   "metadata": {
    "trusted": true
   },
   "outputs": [
    {
     "data": {
      "text/plain": [
       "25"
      ]
     },
     "execution_count": 9,
     "metadata": {},
     "output_type": "execute_result"
    }
   ],
   "source": [
    "def u_n(n, u_0, r):\n",
    "    return n*r + u_0\n",
    "\n",
    "u_n(10, 5, 2) # n = 10  ,  U0 = 5  et  r = 2"
   ]
  },
  {
   "cell_type": "markdown",
   "metadata": {},
   "source": [
    "<br/>\n",
    "\n",
    "On peut appeler une fonction au sein d'une autre fonction. Par exemple, calculons la somme $U_0 + U_1 + \\dotsm + U_{100}$.\n",
    "\n",
    "<br/>"
   ]
  },
  {
   "cell_type": "code",
   "execution_count": 14,
   "metadata": {
    "trusted": true
   },
   "outputs": [
    {
     "name": "stdout",
     "output_type": "stream",
     "text": [
      "La somme pour r=2 et U0=7 vaut :  10807\n",
      "Avec la version généralisée, on obtient :  10807\n"
     ]
    }
   ],
   "source": [
    "## Somme des 101 premiers termes de la suite U\n",
    "def somme_suite(u_0, r):\n",
    "    resultat_somme = 0\n",
    "    for n in range(101):\n",
    "        resultat_somme = resultat_somme + u_n(n, u_0, r)\n",
    "    return resultat_somme\n",
    "\n",
    "        \n",
    "## Cas général, réutilisable pour des sommes sur plus de termes :\n",
    "def somme_suite_general(nombre_de_termes, u_0, r):\n",
    "    resultat_somme = 0\n",
    "    for n in range(nombre_de_termes):\n",
    "        resultat_somme = resultat_somme + u_n(n, u_0, r)\n",
    "    return resultat_somme\n",
    "\n",
    "\n",
    "print(\"La somme pour r=2 et U0=7 vaut : \", somme_suite(7, 2))\n",
    "print(\"Avec la version généralisée, on obtient : \", somme_suite_general(101, 7, 2))"
   ]
  },
  {
   "cell_type": "markdown",
   "metadata": {},
   "source": [
    "\n",
    "<br/>\n",
    "\n",
    "<br/>\n",
    "\n",
    "2) **Portée lexicale**\n",
    "\n",
    "<br/>\n",
    "\n",
    "Python, comme de nombreux autres languages, traite de manière séparée la fonction et le script dans lequel elle est appellée. En clair, la fonction ne connaît rien du contexte dans lequel elle est exécutée excépté ses arguments. En particulier, une variable définie hors de la fonction ne sera pas accessible dans la fonction.\n",
    "\n",
    "<br/>"
   ]
  },
  {
   "cell_type": "code",
   "execution_count": 17,
   "metadata": {
    "trusted": true
   },
   "outputs": [
    {
     "name": "stdout",
     "output_type": "stream",
     "text": [
      "18\n"
     ]
    }
   ],
   "source": [
    "# Exemple : portée d'une variable hors d'une fonction\n",
    "\n",
    "ma_variable = 18\n",
    "\n",
    "\n",
    "def essaie_modifier_variable():\n",
    "    ma_variable = 22\n",
    "    \n",
    "    \n",
    "essaie_modifier_variable()\n",
    "print(ma_variable)"
   ]
  },
  {
   "cell_type": "markdown",
   "metadata": {},
   "source": [
    "<br/>\n",
    "\n",
    "On dit que les variables sont définies localement car elles ne sont définies que dans un contexte donné. \n",
    "\n",
    "\n",
    "**Accéder à une variable hors d'une fonction :** on peut néanmoins forcer la main à Python pour qu'il comprenne que l'on essaie d'accéder à une variable qui vient d'un contexte plus grand. On appelle ce genre de variable une **variable globale**. Pour dire à Python que l'on fait référence à une variable globale, il suffit d'écrire `global ma_variable` au début de la fonction.\n",
    "\n",
    "<br/>"
   ]
  },
  {
   "cell_type": "code",
   "execution_count": 21,
   "metadata": {
    "trusted": true
   },
   "outputs": [
    {
     "name": "stdout",
     "output_type": "stream",
     "text": [
      "22\n"
     ]
    }
   ],
   "source": [
    "# Exemple : variable globale\n",
    "\n",
    "ma_variable = 18\n",
    "\n",
    "\n",
    "def essaie_modifier_variable():\n",
    "    global ma_variable # on précise que l'on fait référence à ma_variable qui est définie hors de la fonction\n",
    "    ma_variable = 22\n",
    "    \n",
    "    \n",
    "essaie_modifier_variable()\n",
    "print(ma_variable) # La fonction a réussi à modifier ma_variable"
   ]
  },
  {
   "cell_type": "markdown",
   "metadata": {},
   "source": [
    "<br/>\n",
    "\n",
    "Cependant, les variables définies dans une fonction ne sont pas accessibles depuis un contexte plus grand. Ce n'est pas réellement un problème puisqu'on peut les récupérer grâce à `return`. \n",
    "\n",
    "<br/>"
   ]
  },
  {
   "cell_type": "markdown",
   "metadata": {},
   "source": [
    "\n",
    "**Où placer les fonctions?** On peut placer les fonctions n'importe où dans un fichier Python et y accéder n'importe où. On peut voir la portée lexicale comme une limitation des fonctions mais c'est également un avantage : la définition d'une fonction est totalement indépendante du reste du script.\n",
    "\n",
    "<br/>\n"
   ]
  },
  {
   "cell_type": "markdown",
   "metadata": {},
   "source": [
    "------------------------\n",
    "\n",
    "**Fonction dans une fonction :** On peut définir une fonction $g$ dans une fonction $f$. Attention car $g$ ne sera accessible que depuis $f$ et pas en dehors, exactement comme une variable.\n",
    "\n",
    "\n",
    "<br/>"
   ]
  },
  {
   "cell_type": "code",
   "execution_count": 26,
   "metadata": {
    "trusted": true
   },
   "outputs": [
    {
     "name": "stdout",
     "output_type": "stream",
     "text": [
      "10\n",
      "12\n",
      "14\n",
      "16\n",
      "18\n",
      "20\n"
     ]
    }
   ],
   "source": [
    "# Exemple : fonctions imbriquées\n",
    "\n",
    "def énumérer_les_nombres_pairs(debut, fin):\n",
    "    n = debut - (debut % 2) #On arrondi n au nombre pair inférieur\n",
    "    \n",
    "    def nombre_suivant(n):\n",
    "        return n+2\n",
    "    \n",
    "    for i in range((fin-debut)//2 + 1):\n",
    "        print(n)\n",
    "        n = nombre_suivant(n)\n",
    "        \n",
    "        \n",
    "énumérer_les_nombres_pairs(10,20)"
   ]
  },
  {
   "cell_type": "code",
   "execution_count": 27,
   "metadata": {
    "trusted": true
   },
   "outputs": [
    {
     "name": "stderr",
     "output_type": "stream",
     "text": [
      "Traceback (most recent call last):\n",
      "  File \"<basthon-input-27-1c8b3a2e8e95>\", line 3, in <module>\n",
      "    nombre_suivant(10)\n",
      "    ^^^^^^^^^^^^^^\n",
      "NameError: name 'nombre_suivant' is not defined\n"
     ]
    }
   ],
   "source": [
    "# Cependant, si l'on essaie d'accéder à nombre_suivant(...) ailleurs, on a une erreur :\n",
    "\n",
    "nombre_suivant(10)"
   ]
  }
 ],
 "metadata": {
  "kernelspec": {
   "display_name": "Python 3",
   "language": "python",
   "name": "python3"
  }
 },
 "nbformat": 4,
 "nbformat_minor": 2
}
